{
  "nbformat": 4,
  "nbformat_minor": 0,
  "metadata": {
    "colab": {
      "name": "Analyzer.ipynb",
      "provenance": [],
      "collapsed_sections": [],
      "toc_visible": true,
      "authorship_tag": "ABX9TyOHeEyoLgu/fhPe0NCTI242",
      "include_colab_link": true
    },
    "kernelspec": {
      "name": "python3",
      "display_name": "Python 3"
    },
    "language_info": {
      "name": "python"
    }
  },
  "cells": [
    {
      "cell_type": "markdown",
      "metadata": {
        "id": "view-in-github",
        "colab_type": "text"
      },
      "source": [
        "<a href=\"https://colab.research.google.com/github/ForestHouse2316/Imdaejuteck/blob/main/Analyzer.ipynb\" target=\"_parent\"><img src=\"https://colab.research.google.com/assets/colab-badge.svg\" alt=\"Open In Colab\"/></a>"
      ]
    },
    {
      "cell_type": "code",
      "metadata": {
        "id": "4fmKunW4FqmB"
      },
      "source": [
        "import pandas as pd\n",
        "import numpy as np\n",
        "import matplotlib.pyplot as plt\n",
        "import glob"
      ],
      "execution_count": 11,
      "outputs": []
    },
    {
      "cell_type": "markdown",
      "metadata": {
        "id": "toFncBqae_lY"
      },
      "source": [
        "### 임대주택 총합"
      ]
    },
    {
      "cell_type": "code",
      "metadata": {
        "colab": {
          "base_uri": "https://localhost:8080/",
          "height": 204
        },
        "id": "zrLNr_UFAxR4",
        "outputId": "329f04e4-9d31-486e-cb77-189d78661c19"
      },
      "source": [
        "TNo_ImdaeHouse_path = \"/content/drive/MyDrive/Colab Notebooks/Imdae/Imdaejuteck/한국토지주택공사_전국 공공임대주택 공급 호수 현황_20200617.csv\"\n",
        "TNo_ImdaeHouse_df = pd.read_csv(TNo_ImdaeHouse_path)\n",
        "TNo_ImdaeHouse_df.head()"
      ],
      "execution_count": 12,
      "outputs": [
        {
          "output_type": "execute_result",
          "data": {
            "text/html": [
              "<div>\n",
              "<style scoped>\n",
              "    .dataframe tbody tr th:only-of-type {\n",
              "        vertical-align: middle;\n",
              "    }\n",
              "\n",
              "    .dataframe tbody tr th {\n",
              "        vertical-align: top;\n",
              "    }\n",
              "\n",
              "    .dataframe thead th {\n",
              "        text-align: right;\n",
              "    }\n",
              "</style>\n",
              "<table border=\"1\" class=\"dataframe\">\n",
              "  <thead>\n",
              "    <tr style=\"text-align: right;\">\n",
              "      <th></th>\n",
              "      <th>행 레이블</th>\n",
              "      <th>국민임대</th>\n",
              "      <th>영구임대</th>\n",
              "      <th>행복주택</th>\n",
              "      <th>총합계</th>\n",
              "    </tr>\n",
              "  </thead>\n",
              "  <tbody>\n",
              "    <tr>\n",
              "      <th>0</th>\n",
              "      <td>강원도</td>\n",
              "      <td>21085.0</td>\n",
              "      <td>4889.0</td>\n",
              "      <td>739.0</td>\n",
              "      <td>26713</td>\n",
              "    </tr>\n",
              "    <tr>\n",
              "      <th>1</th>\n",
              "      <td>강릉시</td>\n",
              "      <td>2790.0</td>\n",
              "      <td>860.0</td>\n",
              "      <td>NaN</td>\n",
              "      <td>3650</td>\n",
              "    </tr>\n",
              "    <tr>\n",
              "      <th>2</th>\n",
              "      <td>동해시</td>\n",
              "      <td>1054.0</td>\n",
              "      <td>298.0</td>\n",
              "      <td>NaN</td>\n",
              "      <td>1352</td>\n",
              "    </tr>\n",
              "    <tr>\n",
              "      <th>3</th>\n",
              "      <td>삼척시</td>\n",
              "      <td>816.0</td>\n",
              "      <td>360.0</td>\n",
              "      <td>NaN</td>\n",
              "      <td>1176</td>\n",
              "    </tr>\n",
              "    <tr>\n",
              "      <th>4</th>\n",
              "      <td>속초시</td>\n",
              "      <td>803.0</td>\n",
              "      <td>478.0</td>\n",
              "      <td>NaN</td>\n",
              "      <td>1281</td>\n",
              "    </tr>\n",
              "  </tbody>\n",
              "</table>\n",
              "</div>"
            ],
            "text/plain": [
              "  행 레이블     국민임대    영구임대   행복주택    총합계\n",
              "0   강원도  21085.0  4889.0  739.0  26713\n",
              "1   강릉시   2790.0   860.0    NaN   3650\n",
              "2   동해시   1054.0   298.0    NaN   1352\n",
              "3   삼척시    816.0   360.0    NaN   1176\n",
              "4   속초시    803.0   478.0    NaN   1281"
            ]
          },
          "metadata": {
            "tags": []
          },
          "execution_count": 12
        }
      ]
    },
    {
      "cell_type": "code",
      "metadata": {
        "colab": {
          "base_uri": "https://localhost:8080/"
        },
        "id": "d3RN1aZhcsvX",
        "outputId": "9d362e05-6bc2-49c1-9258-06b5a2e1022e"
      },
      "source": [
        "TNo_ImdaeHouse = TNo_ImdaeHouse_df['국민임대'].sum()\n",
        "print(\"국민 임대주택 총합 : \", TNo_ImdaeHouse)"
      ],
      "execution_count": 13,
      "outputs": [
        {
          "output_type": "stream",
          "text": [
            "국민 임대주택 총합 :  1068064.0\n"
          ],
          "name": "stdout"
        }
      ]
    },
    {
      "cell_type": "markdown",
      "metadata": {
        "id": "BREfqjeHfFhP"
      },
      "source": [
        "### 연도별 연령분포표"
      ]
    },
    {
      "cell_type": "code",
      "metadata": {
        "colab": {
          "base_uri": "https://localhost:8080/",
          "height": 423
        },
        "id": "RkJGIRzdeVk_",
        "outputId": "08ab6578-2b75-4307-b090-e909f4ec4bbe"
      },
      "source": [
        "AgeDistribution_path = \"/content/drive/MyDrive/Colab Notebooks/Imdae/Imdaejuteck/201512_202012_연령별인구현황_연간.csv\"\n",
        "AgeDistribution_df = pd.read_csv(AgeDistribution_path, encoding='cp949')\n",
        "AgeDistribution_df.head()"
      ],
      "execution_count": 14,
      "outputs": [
        {
          "output_type": "execute_result",
          "data": {
            "text/html": [
              "<div>\n",
              "<style scoped>\n",
              "    .dataframe tbody tr th:only-of-type {\n",
              "        vertical-align: middle;\n",
              "    }\n",
              "\n",
              "    .dataframe tbody tr th {\n",
              "        vertical-align: top;\n",
              "    }\n",
              "\n",
              "    .dataframe thead th {\n",
              "        text-align: right;\n",
              "    }\n",
              "</style>\n",
              "<table border=\"1\" class=\"dataframe\">\n",
              "  <thead>\n",
              "    <tr style=\"text-align: right;\">\n",
              "      <th></th>\n",
              "      <th>행정구역</th>\n",
              "      <th>2015년_계_총인구수</th>\n",
              "      <th>2015년_계_연령구간인구수</th>\n",
              "      <th>2015년_계_0~9세</th>\n",
              "      <th>2015년_계_10~19세</th>\n",
              "      <th>2015년_계_20~29세</th>\n",
              "      <th>2015년_계_30~39세</th>\n",
              "      <th>2015년_계_40~49세</th>\n",
              "      <th>2015년_계_50~59세</th>\n",
              "      <th>2015년_계_60~69세</th>\n",
              "      <th>2015년_계_70~79세</th>\n",
              "      <th>2015년_계_80~89세</th>\n",
              "      <th>2015년_계_90~99세</th>\n",
              "      <th>2015년_계_100세 이상</th>\n",
              "      <th>2015년_남_총인구수</th>\n",
              "      <th>2015년_남_연령구간인구수</th>\n",
              "      <th>2015년_남_0~9세</th>\n",
              "      <th>2015년_남_10~19세</th>\n",
              "      <th>2015년_남_20~29세</th>\n",
              "      <th>2015년_남_30~39세</th>\n",
              "      <th>2015년_남_40~49세</th>\n",
              "      <th>2015년_남_50~59세</th>\n",
              "      <th>2015년_남_60~69세</th>\n",
              "      <th>2015년_남_70~79세</th>\n",
              "      <th>2015년_남_80~89세</th>\n",
              "      <th>2015년_남_90~99세</th>\n",
              "      <th>2015년_남_100세 이상</th>\n",
              "      <th>2015년_여_총인구수</th>\n",
              "      <th>2015년_여_연령구간인구수</th>\n",
              "      <th>2015년_여_0~9세</th>\n",
              "      <th>2015년_여_10~19세</th>\n",
              "      <th>2015년_여_20~29세</th>\n",
              "      <th>2015년_여_30~39세</th>\n",
              "      <th>2015년_여_40~49세</th>\n",
              "      <th>2015년_여_50~59세</th>\n",
              "      <th>2015년_여_60~69세</th>\n",
              "      <th>2015년_여_70~79세</th>\n",
              "      <th>2015년_여_80~89세</th>\n",
              "      <th>2015년_여_90~99세</th>\n",
              "      <th>2015년_여_100세 이상</th>\n",
              "      <th>...</th>\n",
              "      <th>2019년_여_100세 이상</th>\n",
              "      <th>2020년_계_총인구수</th>\n",
              "      <th>2020년_계_연령구간인구수</th>\n",
              "      <th>2020년_계_0~9세</th>\n",
              "      <th>2020년_계_10~19세</th>\n",
              "      <th>2020년_계_20~29세</th>\n",
              "      <th>2020년_계_30~39세</th>\n",
              "      <th>2020년_계_40~49세</th>\n",
              "      <th>2020년_계_50~59세</th>\n",
              "      <th>2020년_계_60~69세</th>\n",
              "      <th>2020년_계_70~79세</th>\n",
              "      <th>2020년_계_80~89세</th>\n",
              "      <th>2020년_계_90~99세</th>\n",
              "      <th>2020년_계_100세 이상</th>\n",
              "      <th>2020년_남_총인구수</th>\n",
              "      <th>2020년_남_연령구간인구수</th>\n",
              "      <th>2020년_남_0~9세</th>\n",
              "      <th>2020년_남_10~19세</th>\n",
              "      <th>2020년_남_20~29세</th>\n",
              "      <th>2020년_남_30~39세</th>\n",
              "      <th>2020년_남_40~49세</th>\n",
              "      <th>2020년_남_50~59세</th>\n",
              "      <th>2020년_남_60~69세</th>\n",
              "      <th>2020년_남_70~79세</th>\n",
              "      <th>2020년_남_80~89세</th>\n",
              "      <th>2020년_남_90~99세</th>\n",
              "      <th>2020년_남_100세 이상</th>\n",
              "      <th>2020년_여_총인구수</th>\n",
              "      <th>2020년_여_연령구간인구수</th>\n",
              "      <th>2020년_여_0~9세</th>\n",
              "      <th>2020년_여_10~19세</th>\n",
              "      <th>2020년_여_20~29세</th>\n",
              "      <th>2020년_여_30~39세</th>\n",
              "      <th>2020년_여_40~49세</th>\n",
              "      <th>2020년_여_50~59세</th>\n",
              "      <th>2020년_여_60~69세</th>\n",
              "      <th>2020년_여_70~79세</th>\n",
              "      <th>2020년_여_80~89세</th>\n",
              "      <th>2020년_여_90~99세</th>\n",
              "      <th>2020년_여_100세 이상</th>\n",
              "    </tr>\n",
              "  </thead>\n",
              "  <tbody>\n",
              "    <tr>\n",
              "      <th>0</th>\n",
              "      <td>전국  (0000000000)</td>\n",
              "      <td>51,529,338</td>\n",
              "      <td>51,529,338</td>\n",
              "      <td>4,601,688</td>\n",
              "      <td>5,717,089</td>\n",
              "      <td>6,699,048</td>\n",
              "      <td>7,670,966</td>\n",
              "      <td>8,858,993</td>\n",
              "      <td>8,324,791</td>\n",
              "      <td>5,073,279</td>\n",
              "      <td>3,176,437</td>\n",
              "      <td>1,225,210</td>\n",
              "      <td>165,628</td>\n",
              "      <td>16,209</td>\n",
              "      <td>25,758,186</td>\n",
              "      <td>25,758,186</td>\n",
              "      <td>2,365,981</td>\n",
              "      <td>2,980,812</td>\n",
              "      <td>3,527,813</td>\n",
              "      <td>3,919,396</td>\n",
              "      <td>4,505,612</td>\n",
              "      <td>4,196,330</td>\n",
              "      <td>2,462,313</td>\n",
              "      <td>1,366,101</td>\n",
              "      <td>391,673</td>\n",
              "      <td>38,373</td>\n",
              "      <td>3,782</td>\n",
              "      <td>25,771,152</td>\n",
              "      <td>25,771,152</td>\n",
              "      <td>2,235,707</td>\n",
              "      <td>2,736,277</td>\n",
              "      <td>3,171,235</td>\n",
              "      <td>3,751,570</td>\n",
              "      <td>4,353,381</td>\n",
              "      <td>4,128,461</td>\n",
              "      <td>2,610,966</td>\n",
              "      <td>1,810,336</td>\n",
              "      <td>833,537</td>\n",
              "      <td>127,255</td>\n",
              "      <td>12,427</td>\n",
              "      <td>...</td>\n",
              "      <td>15,330</td>\n",
              "      <td>51,829,023</td>\n",
              "      <td>51,829,023</td>\n",
              "      <td>3,970,070</td>\n",
              "      <td>4,793,336</td>\n",
              "      <td>6,806,153</td>\n",
              "      <td>6,873,117</td>\n",
              "      <td>8,294,787</td>\n",
              "      <td>8,645,014</td>\n",
              "      <td>6,744,506</td>\n",
              "      <td>3,698,246</td>\n",
              "      <td>1,729,422</td>\n",
              "      <td>252,460</td>\n",
              "      <td>21,912</td>\n",
              "      <td>25,841,029</td>\n",
              "      <td>25,841,029</td>\n",
              "      <td>2,035,712</td>\n",
              "      <td>2,478,773</td>\n",
              "      <td>3,573,667</td>\n",
              "      <td>3,541,548</td>\n",
              "      <td>4,214,971</td>\n",
              "      <td>4,362,544</td>\n",
              "      <td>3,298,604</td>\n",
              "      <td>1,664,340</td>\n",
              "      <td>608,461</td>\n",
              "      <td>57,058</td>\n",
              "      <td>5,351</td>\n",
              "      <td>25,987,994</td>\n",
              "      <td>25,987,994</td>\n",
              "      <td>1,934,358</td>\n",
              "      <td>2,314,563</td>\n",
              "      <td>3,232,486</td>\n",
              "      <td>3,331,569</td>\n",
              "      <td>4,079,816</td>\n",
              "      <td>4,282,470</td>\n",
              "      <td>3,445,902</td>\n",
              "      <td>2,033,906</td>\n",
              "      <td>1,120,961</td>\n",
              "      <td>195,402</td>\n",
              "      <td>16,561</td>\n",
              "    </tr>\n",
              "    <tr>\n",
              "      <th>1</th>\n",
              "      <td>서울특별시  (1100000000)</td>\n",
              "      <td>10,022,181</td>\n",
              "      <td>10,022,181</td>\n",
              "      <td>783,299</td>\n",
              "      <td>985,790</td>\n",
              "      <td>1,447,221</td>\n",
              "      <td>1,668,253</td>\n",
              "      <td>1,701,609</td>\n",
              "      <td>1,588,333</td>\n",
              "      <td>1,037,752</td>\n",
              "      <td>582,367</td>\n",
              "      <td>192,801</td>\n",
              "      <td>29,719</td>\n",
              "      <td>5,037</td>\n",
              "      <td>4,930,943</td>\n",
              "      <td>4,930,943</td>\n",
              "      <td>401,797</td>\n",
              "      <td>510,041</td>\n",
              "      <td>723,200</td>\n",
              "      <td>837,657</td>\n",
              "      <td>849,573</td>\n",
              "      <td>773,917</td>\n",
              "      <td>492,879</td>\n",
              "      <td>266,597</td>\n",
              "      <td>66,262</td>\n",
              "      <td>7,727</td>\n",
              "      <td>1,293</td>\n",
              "      <td>5,091,238</td>\n",
              "      <td>5,091,238</td>\n",
              "      <td>381,502</td>\n",
              "      <td>475,749</td>\n",
              "      <td>724,021</td>\n",
              "      <td>830,596</td>\n",
              "      <td>852,036</td>\n",
              "      <td>814,416</td>\n",
              "      <td>544,873</td>\n",
              "      <td>315,770</td>\n",
              "      <td>126,539</td>\n",
              "      <td>21,992</td>\n",
              "      <td>3,744</td>\n",
              "      <td>...</td>\n",
              "      <td>4,648</td>\n",
              "      <td>9,668,465</td>\n",
              "      <td>9,668,465</td>\n",
              "      <td>623,745</td>\n",
              "      <td>781,866</td>\n",
              "      <td>1,460,411</td>\n",
              "      <td>1,475,106</td>\n",
              "      <td>1,528,182</td>\n",
              "      <td>1,523,556</td>\n",
              "      <td>1,243,954</td>\n",
              "      <td>704,076</td>\n",
              "      <td>278,094</td>\n",
              "      <td>42,683</td>\n",
              "      <td>6,792</td>\n",
              "      <td>4,701,723</td>\n",
              "      <td>4,701,723</td>\n",
              "      <td>320,275</td>\n",
              "      <td>401,285</td>\n",
              "      <td>707,669</td>\n",
              "      <td>737,901</td>\n",
              "      <td>756,950</td>\n",
              "      <td>748,582</td>\n",
              "      <td>587,294</td>\n",
              "      <td>320,416</td>\n",
              "      <td>108,339</td>\n",
              "      <td>11,221</td>\n",
              "      <td>1,791</td>\n",
              "      <td>4,966,742</td>\n",
              "      <td>4,966,742</td>\n",
              "      <td>303,470</td>\n",
              "      <td>380,581</td>\n",
              "      <td>752,742</td>\n",
              "      <td>737,205</td>\n",
              "      <td>771,232</td>\n",
              "      <td>774,974</td>\n",
              "      <td>656,660</td>\n",
              "      <td>383,660</td>\n",
              "      <td>169,755</td>\n",
              "      <td>31,462</td>\n",
              "      <td>5,001</td>\n",
              "    </tr>\n",
              "    <tr>\n",
              "      <th>2</th>\n",
              "      <td>부산광역시  (2600000000)</td>\n",
              "      <td>3,513,777</td>\n",
              "      <td>3,513,777</td>\n",
              "      <td>267,227</td>\n",
              "      <td>345,503</td>\n",
              "      <td>456,514</td>\n",
              "      <td>493,958</td>\n",
              "      <td>568,218</td>\n",
              "      <td>619,703</td>\n",
              "      <td>432,899</td>\n",
              "      <td>239,641</td>\n",
              "      <td>79,128</td>\n",
              "      <td>9,497</td>\n",
              "      <td>1,489</td>\n",
              "      <td>1,735,570</td>\n",
              "      <td>1,735,570</td>\n",
              "      <td>137,437</td>\n",
              "      <td>181,499</td>\n",
              "      <td>240,807</td>\n",
              "      <td>252,411</td>\n",
              "      <td>282,846</td>\n",
              "      <td>299,943</td>\n",
              "      <td>207,555</td>\n",
              "      <td>105,634</td>\n",
              "      <td>25,040</td>\n",
              "      <td>2,078</td>\n",
              "      <td>320</td>\n",
              "      <td>1,778,207</td>\n",
              "      <td>1,778,207</td>\n",
              "      <td>129,790</td>\n",
              "      <td>164,004</td>\n",
              "      <td>215,707</td>\n",
              "      <td>241,547</td>\n",
              "      <td>285,372</td>\n",
              "      <td>319,760</td>\n",
              "      <td>225,344</td>\n",
              "      <td>134,007</td>\n",
              "      <td>54,088</td>\n",
              "      <td>7,419</td>\n",
              "      <td>1,169</td>\n",
              "      <td>...</td>\n",
              "      <td>1,401</td>\n",
              "      <td>3,391,946</td>\n",
              "      <td>3,391,946</td>\n",
              "      <td>232,356</td>\n",
              "      <td>272,014</td>\n",
              "      <td>430,987</td>\n",
              "      <td>419,014</td>\n",
              "      <td>511,148</td>\n",
              "      <td>568,913</td>\n",
              "      <td>531,620</td>\n",
              "      <td>293,299</td>\n",
              "      <td>115,680</td>\n",
              "      <td>15,028</td>\n",
              "      <td>1,887</td>\n",
              "      <td>1,661,000</td>\n",
              "      <td>1,661,000</td>\n",
              "      <td>119,173</td>\n",
              "      <td>140,558</td>\n",
              "      <td>224,517</td>\n",
              "      <td>214,297</td>\n",
              "      <td>257,288</td>\n",
              "      <td>276,068</td>\n",
              "      <td>251,584</td>\n",
              "      <td>132,206</td>\n",
              "      <td>41,604</td>\n",
              "      <td>3,285</td>\n",
              "      <td>420</td>\n",
              "      <td>1,730,946</td>\n",
              "      <td>1,730,946</td>\n",
              "      <td>113,183</td>\n",
              "      <td>131,456</td>\n",
              "      <td>206,470</td>\n",
              "      <td>204,717</td>\n",
              "      <td>253,860</td>\n",
              "      <td>292,845</td>\n",
              "      <td>280,036</td>\n",
              "      <td>161,093</td>\n",
              "      <td>74,076</td>\n",
              "      <td>11,743</td>\n",
              "      <td>1,467</td>\n",
              "    </tr>\n",
              "    <tr>\n",
              "      <th>3</th>\n",
              "      <td>대구광역시  (2700000000)</td>\n",
              "      <td>2,487,829</td>\n",
              "      <td>2,487,829</td>\n",
              "      <td>208,115</td>\n",
              "      <td>289,590</td>\n",
              "      <td>326,755</td>\n",
              "      <td>342,633</td>\n",
              "      <td>438,674</td>\n",
              "      <td>419,653</td>\n",
              "      <td>253,693</td>\n",
              "      <td>148,884</td>\n",
              "      <td>53,282</td>\n",
              "      <td>6,007</td>\n",
              "      <td>543</td>\n",
              "      <td>1,237,291</td>\n",
              "      <td>1,237,291</td>\n",
              "      <td>107,230</td>\n",
              "      <td>153,618</td>\n",
              "      <td>179,517</td>\n",
              "      <td>172,408</td>\n",
              "      <td>216,253</td>\n",
              "      <td>206,822</td>\n",
              "      <td>120,190</td>\n",
              "      <td>62,625</td>\n",
              "      <td>17,216</td>\n",
              "      <td>1,292</td>\n",
              "      <td>120</td>\n",
              "      <td>1,250,538</td>\n",
              "      <td>1,250,538</td>\n",
              "      <td>100,885</td>\n",
              "      <td>135,972</td>\n",
              "      <td>147,238</td>\n",
              "      <td>170,225</td>\n",
              "      <td>222,421</td>\n",
              "      <td>212,831</td>\n",
              "      <td>133,503</td>\n",
              "      <td>86,259</td>\n",
              "      <td>36,066</td>\n",
              "      <td>4,715</td>\n",
              "      <td>423</td>\n",
              "      <td>...</td>\n",
              "      <td>520</td>\n",
              "      <td>2,418,346</td>\n",
              "      <td>2,418,346</td>\n",
              "      <td>178,226</td>\n",
              "      <td>225,898</td>\n",
              "      <td>321,534</td>\n",
              "      <td>294,310</td>\n",
              "      <td>383,839</td>\n",
              "      <td>425,479</td>\n",
              "      <td>325,957</td>\n",
              "      <td>175,276</td>\n",
              "      <td>77,665</td>\n",
              "      <td>9,429</td>\n",
              "      <td>733</td>\n",
              "      <td>1,193,109</td>\n",
              "      <td>1,193,109</td>\n",
              "      <td>91,285</td>\n",
              "      <td>118,103</td>\n",
              "      <td>171,675</td>\n",
              "      <td>153,070</td>\n",
              "      <td>189,358</td>\n",
              "      <td>208,340</td>\n",
              "      <td>155,170</td>\n",
              "      <td>76,599</td>\n",
              "      <td>27,260</td>\n",
              "      <td>2,073</td>\n",
              "      <td>176</td>\n",
              "      <td>1,225,237</td>\n",
              "      <td>1,225,237</td>\n",
              "      <td>86,941</td>\n",
              "      <td>107,795</td>\n",
              "      <td>149,859</td>\n",
              "      <td>141,240</td>\n",
              "      <td>194,481</td>\n",
              "      <td>217,139</td>\n",
              "      <td>170,787</td>\n",
              "      <td>98,677</td>\n",
              "      <td>50,405</td>\n",
              "      <td>7,356</td>\n",
              "      <td>557</td>\n",
              "    </tr>\n",
              "    <tr>\n",
              "      <th>4</th>\n",
              "      <td>인천광역시  (2800000000)</td>\n",
              "      <td>2,925,815</td>\n",
              "      <td>2,925,815</td>\n",
              "      <td>271,758</td>\n",
              "      <td>324,530</td>\n",
              "      <td>402,113</td>\n",
              "      <td>455,898</td>\n",
              "      <td>516,105</td>\n",
              "      <td>494,119</td>\n",
              "      <td>255,834</td>\n",
              "      <td>142,147</td>\n",
              "      <td>54,650</td>\n",
              "      <td>7,960</td>\n",
              "      <td>701</td>\n",
              "      <td>1,469,869</td>\n",
              "      <td>1,469,869</td>\n",
              "      <td>139,490</td>\n",
              "      <td>167,985</td>\n",
              "      <td>209,317</td>\n",
              "      <td>234,355</td>\n",
              "      <td>260,769</td>\n",
              "      <td>251,005</td>\n",
              "      <td>126,517</td>\n",
              "      <td>61,342</td>\n",
              "      <td>16,942</td>\n",
              "      <td>1,959</td>\n",
              "      <td>188</td>\n",
              "      <td>1,455,946</td>\n",
              "      <td>1,455,946</td>\n",
              "      <td>132,268</td>\n",
              "      <td>156,545</td>\n",
              "      <td>192,796</td>\n",
              "      <td>221,543</td>\n",
              "      <td>255,336</td>\n",
              "      <td>243,114</td>\n",
              "      <td>129,317</td>\n",
              "      <td>80,805</td>\n",
              "      <td>37,708</td>\n",
              "      <td>6,001</td>\n",
              "      <td>513</td>\n",
              "      <td>...</td>\n",
              "      <td>652</td>\n",
              "      <td>2,942,828</td>\n",
              "      <td>2,942,828</td>\n",
              "      <td>228,634</td>\n",
              "      <td>274,162</td>\n",
              "      <td>401,546</td>\n",
              "      <td>406,146</td>\n",
              "      <td>483,977</td>\n",
              "      <td>512,167</td>\n",
              "      <td>367,879</td>\n",
              "      <td>177,503</td>\n",
              "      <td>77,504</td>\n",
              "      <td>12,341</td>\n",
              "      <td>969</td>\n",
              "      <td>1,473,943</td>\n",
              "      <td>1,473,943</td>\n",
              "      <td>117,356</td>\n",
              "      <td>141,025</td>\n",
              "      <td>209,363</td>\n",
              "      <td>210,025</td>\n",
              "      <td>247,402</td>\n",
              "      <td>256,037</td>\n",
              "      <td>182,261</td>\n",
              "      <td>80,868</td>\n",
              "      <td>26,682</td>\n",
              "      <td>2,665</td>\n",
              "      <td>259</td>\n",
              "      <td>1,468,885</td>\n",
              "      <td>1,468,885</td>\n",
              "      <td>111,278</td>\n",
              "      <td>133,137</td>\n",
              "      <td>192,183</td>\n",
              "      <td>196,121</td>\n",
              "      <td>236,575</td>\n",
              "      <td>256,130</td>\n",
              "      <td>185,618</td>\n",
              "      <td>96,635</td>\n",
              "      <td>50,822</td>\n",
              "      <td>9,676</td>\n",
              "      <td>710</td>\n",
              "    </tr>\n",
              "  </tbody>\n",
              "</table>\n",
              "<p>5 rows × 235 columns</p>\n",
              "</div>"
            ],
            "text/plain": [
              "                  행정구역 2015년_계_총인구수  ... 2020년_여_90~99세 2020년_여_100세 이상\n",
              "0     전국  (0000000000)   51,529,338  ...        195,402          16,561\n",
              "1  서울특별시  (1100000000)   10,022,181  ...         31,462           5,001\n",
              "2  부산광역시  (2600000000)    3,513,777  ...         11,743           1,467\n",
              "3  대구광역시  (2700000000)    2,487,829  ...          7,356             557\n",
              "4  인천광역시  (2800000000)    2,925,815  ...          9,676             710\n",
              "\n",
              "[5 rows x 235 columns]"
            ]
          },
          "metadata": {
            "tags": []
          },
          "execution_count": 14
        }
      ]
    },
    {
      "cell_type": "code",
      "metadata": {
        "colab": {
          "base_uri": "https://localhost:8080/",
          "height": 1000
        },
        "id": "O4QPZmt3eViZ",
        "outputId": "5ba593e2-66a6-4f0e-f1f8-2e0c83a2d0b5"
      },
      "source": [
        "AgeDistribution_ColumnShape = \"YEAR년_GENDER_AGE\" # YEAR / GENDER / AGE\n",
        "AgeRange = list([f\"{x}0~{x}9세\" for x in range(0,10)])\n",
        "AgeRange.append(\"100세 이상\")\n",
        "AgeRange[0] = '0~9세'\n",
        "for year in range(2015, 2021):\n",
        "  people = {'남':[],\n",
        "            '여':[]}\n",
        "  for gender in ['남', '여']:\n",
        "    for age in AgeRange:\n",
        "      people[gender].append(int(AgeDistribution_df[AgeDistribution_ColumnShape.replace('YEAR',str(year)).replace('GENDER',gender).replace('AGE',age)][0].replace(',','')))\n",
        "  people['남'] = list(map(lambda x: -x , people['남']))\n",
        "  # plt.subplot(2,2)\n",
        "  plt.barh(AgeRange, people['남'])\n",
        "  plt.barh(AgeRange, people['여'])\n",
        "  plt.show()"
      ],
      "execution_count": 19,
      "outputs": [
        {
          "output_type": "stream",
          "text": [
            "/usr/local/lib/python3.7/dist-packages/matplotlib/backends/backend_agg.py:214: RuntimeWarning: Glyph 49464 missing from current font.\n",
            "  font.set_text(s, 0.0, flags=flags)\n",
            "/usr/local/lib/python3.7/dist-packages/matplotlib/backends/backend_agg.py:214: RuntimeWarning: Glyph 51060 missing from current font.\n",
            "  font.set_text(s, 0.0, flags=flags)\n",
            "/usr/local/lib/python3.7/dist-packages/matplotlib/backends/backend_agg.py:214: RuntimeWarning: Glyph 49345 missing from current font.\n",
            "  font.set_text(s, 0.0, flags=flags)\n",
            "/usr/local/lib/python3.7/dist-packages/matplotlib/backends/backend_agg.py:183: RuntimeWarning: Glyph 49464 missing from current font.\n",
            "  font.set_text(s, 0, flags=flags)\n",
            "/usr/local/lib/python3.7/dist-packages/matplotlib/backends/backend_agg.py:183: RuntimeWarning: Glyph 51060 missing from current font.\n",
            "  font.set_text(s, 0, flags=flags)\n",
            "/usr/local/lib/python3.7/dist-packages/matplotlib/backends/backend_agg.py:183: RuntimeWarning: Glyph 49345 missing from current font.\n",
            "  font.set_text(s, 0, flags=flags)\n"
          ],
          "name": "stderr"
        },
        {
          "output_type": "display_data",
          "data": {
            "image/png": "[encoded data removed]",
            "text/plain": [
              "<Figure size 432x288 with 1 Axes>"
            ]
          },
          "metadata": {
            "tags": [],
            "needs_background": "light"
          }
        },
        {
          "output_type": "display_data",
          "data": {
            "image/png": "[encoded data removed]",
            "text/plain": [
              "<Figure size 432x288 with 1 Axes>"
            ]
          },
          "metadata": {
            "tags": [],
            "needs_background": "light"
          }
        },
        {
          "output_type": "display_data",
          "data": {
            "image/png": "[encoded data removed]",
            "text/plain": [
              "<Figure size 432x288 with 1 Axes>"
            ]
          },
          "metadata": {
            "tags": [],
            "needs_background": "light"
          }
        },
        {
          "output_type": "display_data",
          "data": {
            "image/png": "[encoded data removed]",
            "text/plain": [
              "<Figure size 432x288 with 1 Axes>"
            ]
          },
          "metadata": {
            "tags": [],
            "needs_background": "light"
          }
        },
        {
          "output_type": "display_data",
          "data": {
            "image/png": "[encoded data removed]",
            "text/plain": [
              "<Figure size 432x288 with 1 Axes>"
            ]
          },
          "metadata": {
            "tags": [],
            "needs_background": "light"
          }
        },
        {
          "output_type": "display_data",
          "data": {
            "image/png": "[encoded data removed]",
            "text/plain": [
              "<Figure size 432x288 with 1 Axes>"
            ]
          },
          "metadata": {
            "tags": [],
            "needs_background": "light"
          }
        }
      ]
    },
    {
      "cell_type": "markdown",
      "metadata": {
        "id": "plMg7wV-463o"
      },
      "source": [
        "- 근 5년간의 변화만을 살펴봐도 0 ~ 19세 및 30 ~ 39세의 인구는 크게 감소했고<br>40 ~ 49세의 인구 일부가 50 ~ 59세 인구로 넘어간 것을 확인할 수 있다.\n",
        "<br>20 ~ 29세의 인구는 거의 일정하다.\n"
      ]
    },
    {
      "cell_type": "markdown",
      "metadata": {
        "id": "goO8SGkhrUxC"
      },
      "source": [
        "### 부동산 가격 추이"
      ]
    },
    {
      "cell_type": "code",
      "metadata": {
        "id": "o95Rmq-jeVgS",
        "colab": {
          "base_uri": "https://localhost:8080/"
        },
        "outputId": "07ada5b5-4461-4ec7-b342-7606b053b91e"
      },
      "source": [
        "HousePriceChange_path = '/content/drive/MyDrive/Colab Notebooks/Imdae/Imdaejuteck/주택 매매가 동향.csv'\n",
        "HousePriceChange_df = pd.read_csv(HousePriceChange_path)\n",
        "HousePriceChange_df.set_index(HousePriceChange_df['Year'], inplace=True)\n",
        "HousePriceChange_df.drop('Year', axis=1, inplace=True)\n",
        "HousePriceChange_df.index"
      ],
      "execution_count": 16,
      "outputs": [
        {
          "output_type": "execute_result",
          "data": {
            "text/plain": [
              "Int64Index([2011, 2012, 2013, 2014, 2015, 2016, 2017, 2018, 2019, 2020], dtype='int64', name='Year')"
            ]
          },
          "metadata": {
            "tags": []
          },
          "execution_count": 16
        }
      ]
    },
    {
      "cell_type": "code",
      "metadata": {
        "id": "rkzIzkxweVdr",
        "colab": {
          "base_uri": "https://localhost:8080/",
          "height": 265
        },
        "outputId": "b8d8fbb5-8764-468b-b72d-9651ce5930a6"
      },
      "source": [
        "for location in HousePriceChange_df.columns:\n",
        "  plt.plot(HousePriceChange_df[location])\n",
        "plt.legend(HousePriceChange_df.columns)\n",
        "plt.show()"
      ],
      "execution_count": 17,
      "outputs": [
        {
          "output_type": "display_data",
          "data": {
            "image/png": "[encoded data removed]",
            "text/plain": [
              "<Figure size 432x288 with 1 Axes>"
            ]
          },
          "metadata": {
            "tags": [],
            "needs_background": "light"
          }
        }
      ]
    },
    {
      "cell_type": "code",
      "metadata": {
        "id": "4ZLXDb-crUa3"
      },
      "source": [
        ""
      ],
      "execution_count": 17,
      "outputs": []
    },
    {
      "cell_type": "code",
      "metadata": {
        "id": "ytdN2s02dQ9P"
      },
      "source": [
        ""
      ],
      "execution_count": 17,
      "outputs": []
    },
    {
      "cell_type": "code",
      "metadata": {
        "id": "NcfcacU6eVbF"
      },
      "source": [
        ""
      ],
      "execution_count": 17,
      "outputs": []
    },
    {
      "cell_type": "code",
      "metadata": {
        "id": "6vIFTX0BeVYz"
      },
      "source": [
        ""
      ],
      "execution_count": 17,
      "outputs": []
    },
    {
      "cell_type": "code",
      "metadata": {
        "id": "JHIACvn_eVWK"
      },
      "source": [
        ""
      ],
      "execution_count": 17,
      "outputs": []
    },
    {
      "cell_type": "code",
      "metadata": {
        "id": "486E-UoWeVTu"
      },
      "source": [
        ""
      ],
      "execution_count": 17,
      "outputs": []
    },
    {
      "cell_type": "code",
      "metadata": {
        "id": "Xkh0XBrpeVOQ"
      },
      "source": [
        ""
      ],
      "execution_count": 17,
      "outputs": []
    },
    {
      "cell_type": "code",
      "metadata": {
        "id": "qTRKxcR_eVB1"
      },
      "source": [
        ""
      ],
      "execution_count": 17,
      "outputs": []
    },
    {
      "cell_type": "code",
      "metadata": {
        "id": "_TxBD7WzBQZj"
      },
      "source": [
        ""
      ],
      "execution_count": 17,
      "outputs": []
    },
    {
      "cell_type": "code",
      "metadata": {
        "id": "KCQDCGDHBRR4"
      },
      "source": [
        ""
      ],
      "execution_count": 17,
      "outputs": []
    }
  ]
}